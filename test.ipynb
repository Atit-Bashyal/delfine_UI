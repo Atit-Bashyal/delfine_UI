{
 "cells": [
  {
   "cell_type": "code",
   "execution_count": 14,
   "metadata": {},
   "outputs": [],
   "source": [
    "import pandas as pd\n",
    "import matplotlib.pyplot as plt"
   ]
  },
  {
   "cell_type": "code",
   "execution_count": 16,
   "metadata": {},
   "outputs": [
    {
     "data": {
      "text/html": [
       "<div>\n",
       "<style scoped>\n",
       "    .dataframe tbody tr th:only-of-type {\n",
       "        vertical-align: middle;\n",
       "    }\n",
       "\n",
       "    .dataframe tbody tr th {\n",
       "        vertical-align: top;\n",
       "    }\n",
       "\n",
       "    .dataframe thead th {\n",
       "        text-align: right;\n",
       "    }\n",
       "</style>\n",
       "<table border=\"1\" class=\"dataframe\">\n",
       "  <thead>\n",
       "    <tr style=\"text-align: right;\">\n",
       "      <th></th>\n",
       "      <th>power</th>\n",
       "      <th>global_radiation</th>\n",
       "      <th>temperature</th>\n",
       "      <th>Year</th>\n",
       "      <th>Month</th>\n",
       "      <th>Day</th>\n",
       "      <th>date</th>\n",
       "    </tr>\n",
       "    <tr>\n",
       "      <th>datetime</th>\n",
       "      <th></th>\n",
       "      <th></th>\n",
       "      <th></th>\n",
       "      <th></th>\n",
       "      <th></th>\n",
       "      <th></th>\n",
       "      <th></th>\n",
       "    </tr>\n",
       "  </thead>\n",
       "  <tbody>\n",
       "    <tr>\n",
       "      <th>2019-02-14 09:15:00</th>\n",
       "      <td>0.678</td>\n",
       "      <td>312.310</td>\n",
       "      <td>1.25</td>\n",
       "      <td>2019</td>\n",
       "      <td>2</td>\n",
       "      <td>14</td>\n",
       "      <td>2/14/2019</td>\n",
       "    </tr>\n",
       "    <tr>\n",
       "      <th>2019-02-14 09:30:00</th>\n",
       "      <td>0.780</td>\n",
       "      <td>363.451</td>\n",
       "      <td>1.95</td>\n",
       "      <td>2019</td>\n",
       "      <td>2</td>\n",
       "      <td>14</td>\n",
       "      <td>2/14/2019</td>\n",
       "    </tr>\n",
       "    <tr>\n",
       "      <th>2019-02-14 09:45:00</th>\n",
       "      <td>0.912</td>\n",
       "      <td>419.662</td>\n",
       "      <td>1.80</td>\n",
       "      <td>2019</td>\n",
       "      <td>2</td>\n",
       "      <td>14</td>\n",
       "      <td>2/14/2019</td>\n",
       "    </tr>\n",
       "    <tr>\n",
       "      <th>2019-02-14 10:00:00</th>\n",
       "      <td>1.025</td>\n",
       "      <td>464.191</td>\n",
       "      <td>1.75</td>\n",
       "      <td>2019</td>\n",
       "      <td>2</td>\n",
       "      <td>14</td>\n",
       "      <td>2/14/2019</td>\n",
       "    </tr>\n",
       "    <tr>\n",
       "      <th>2019-02-14 10:15:00</th>\n",
       "      <td>1.126</td>\n",
       "      <td>509.709</td>\n",
       "      <td>2.40</td>\n",
       "      <td>2019</td>\n",
       "      <td>2</td>\n",
       "      <td>14</td>\n",
       "      <td>2/14/2019</td>\n",
       "    </tr>\n",
       "    <tr>\n",
       "      <th>...</th>\n",
       "      <td>...</td>\n",
       "      <td>...</td>\n",
       "      <td>...</td>\n",
       "      <td>...</td>\n",
       "      <td>...</td>\n",
       "      <td>...</td>\n",
       "      <td>...</td>\n",
       "    </tr>\n",
       "    <tr>\n",
       "      <th>2020-12-21 13:15:00</th>\n",
       "      <td>0.215</td>\n",
       "      <td>113.213</td>\n",
       "      <td>12.60</td>\n",
       "      <td>2020</td>\n",
       "      <td>12</td>\n",
       "      <td>21</td>\n",
       "      <td>12/21/2020</td>\n",
       "    </tr>\n",
       "    <tr>\n",
       "      <th>2020-12-21 13:30:00</th>\n",
       "      <td>0.180</td>\n",
       "      <td>100.603</td>\n",
       "      <td>12.45</td>\n",
       "      <td>2020</td>\n",
       "      <td>12</td>\n",
       "      <td>21</td>\n",
       "      <td>12/21/2020</td>\n",
       "    </tr>\n",
       "    <tr>\n",
       "      <th>2020-12-21 13:45:00</th>\n",
       "      <td>0.149</td>\n",
       "      <td>68.183</td>\n",
       "      <td>12.50</td>\n",
       "      <td>2020</td>\n",
       "      <td>12</td>\n",
       "      <td>21</td>\n",
       "      <td>12/21/2020</td>\n",
       "    </tr>\n",
       "    <tr>\n",
       "      <th>2020-12-21 14:00:00</th>\n",
       "      <td>0.181</td>\n",
       "      <td>99.403</td>\n",
       "      <td>12.60</td>\n",
       "      <td>2020</td>\n",
       "      <td>12</td>\n",
       "      <td>21</td>\n",
       "      <td>12/21/2020</td>\n",
       "    </tr>\n",
       "    <tr>\n",
       "      <th>2020-12-21 14:15:00</th>\n",
       "      <td>0.107</td>\n",
       "      <td>70.330</td>\n",
       "      <td>12.60</td>\n",
       "      <td>2020</td>\n",
       "      <td>12</td>\n",
       "      <td>21</td>\n",
       "      <td>12/21/2020</td>\n",
       "    </tr>\n",
       "  </tbody>\n",
       "</table>\n",
       "<p>64957 rows × 7 columns</p>\n",
       "</div>"
      ],
      "text/plain": [
       "                     power  global_radiation  temperature  Year  Month  Day  \\\n",
       "datetime                                                                      \n",
       "2019-02-14 09:15:00  0.678           312.310         1.25  2019      2   14   \n",
       "2019-02-14 09:30:00  0.780           363.451         1.95  2019      2   14   \n",
       "2019-02-14 09:45:00  0.912           419.662         1.80  2019      2   14   \n",
       "2019-02-14 10:00:00  1.025           464.191         1.75  2019      2   14   \n",
       "2019-02-14 10:15:00  1.126           509.709         2.40  2019      2   14   \n",
       "...                    ...               ...          ...   ...    ...  ...   \n",
       "2020-12-21 13:15:00  0.215           113.213        12.60  2020     12   21   \n",
       "2020-12-21 13:30:00  0.180           100.603        12.45  2020     12   21   \n",
       "2020-12-21 13:45:00  0.149            68.183        12.50  2020     12   21   \n",
       "2020-12-21 14:00:00  0.181            99.403        12.60  2020     12   21   \n",
       "2020-12-21 14:15:00  0.107            70.330        12.60  2020     12   21   \n",
       "\n",
       "                           date  \n",
       "datetime                         \n",
       "2019-02-14 09:15:00   2/14/2019  \n",
       "2019-02-14 09:30:00   2/14/2019  \n",
       "2019-02-14 09:45:00   2/14/2019  \n",
       "2019-02-14 10:00:00   2/14/2019  \n",
       "2019-02-14 10:15:00   2/14/2019  \n",
       "...                         ...  \n",
       "2020-12-21 13:15:00  12/21/2020  \n",
       "2020-12-21 13:30:00  12/21/2020  \n",
       "2020-12-21 13:45:00  12/21/2020  \n",
       "2020-12-21 14:00:00  12/21/2020  \n",
       "2020-12-21 14:15:00  12/21/2020  \n",
       "\n",
       "[64957 rows x 7 columns]"
      ]
     },
     "execution_count": 16,
     "metadata": {},
     "output_type": "execute_result"
    }
   ],
   "source": [
    "data_path = \"/Users/kritkorns/Mike/Jacob/x_others/03_delfine_Django/delfine_UI/data/Mehring.csv\"\n",
    "df = pd.read_csv(data_path, index_col='datetime', parse_dates=True)\n",
    "df = df.sort_index()\n",
    "df"
   ]
  },
  {
   "cell_type": "code",
   "execution_count": 11,
   "metadata": {},
   "outputs": [
    {
     "name": "stdout",
     "output_type": "stream",
     "text": [
      "<class 'pandas.core.frame.DataFrame'>\n",
      "DatetimeIndex: 64957 entries, 2019-07-08 12:45:00 to 2020-12-21 09:15:00\n",
      "Data columns (total 7 columns):\n",
      " #   Column            Non-Null Count  Dtype  \n",
      "---  ------            --------------  -----  \n",
      " 0   power             64957 non-null  float64\n",
      " 1   global_radiation  64957 non-null  float64\n",
      " 2   temperature       64957 non-null  float64\n",
      " 3   Year              64957 non-null  int64  \n",
      " 4   Month             64957 non-null  int64  \n",
      " 5   Day               64957 non-null  int64  \n",
      " 6   date              64957 non-null  object \n",
      "dtypes: float64(3), int64(3), object(1)\n",
      "memory usage: 4.0+ MB\n"
     ]
    }
   ],
   "source": [
    "df.info()"
   ]
  },
  {
   "cell_type": "code",
   "execution_count": 17,
   "metadata": {},
   "outputs": [
    {
     "data": {
      "text/plain": [
       "[<matplotlib.lines.Line2D at 0x7f7bc4cc6e80>]"
      ]
     },
     "execution_count": 17,
     "metadata": {},
     "output_type": "execute_result"
    },
    {
     "data": {
      "image/png": "[encoded data removed]",
      "text/plain": [
       "<Figure size 640x480 with 1 Axes>"
      ]
     },
     "metadata": {},
     "output_type": "display_data"
    }
   ],
   "source": [
    "plt.plot(df['power'])"
   ]
  },
  {
   "cell_type": "code",
   "execution_count": 19,
   "metadata": {},
   "outputs": [
    {
     "data": {
      "text/html": [
       "<div>\n",
       "<style scoped>\n",
       "    .dataframe tbody tr th:only-of-type {\n",
       "        vertical-align: middle;\n",
       "    }\n",
       "\n",
       "    .dataframe tbody tr th {\n",
       "        vertical-align: top;\n",
       "    }\n",
       "\n",
       "    .dataframe thead th {\n",
       "        text-align: right;\n",
       "    }\n",
       "</style>\n",
       "<table border=\"1\" class=\"dataframe\">\n",
       "  <thead>\n",
       "    <tr style=\"text-align: right;\">\n",
       "      <th></th>\n",
       "      <th>Power</th>\n",
       "      <th>Wind_Speed</th>\n",
       "    </tr>\n",
       "    <tr>\n",
       "      <th>Date</th>\n",
       "      <th></th>\n",
       "      <th></th>\n",
       "    </tr>\n",
       "  </thead>\n",
       "  <tbody>\n",
       "    <tr>\n",
       "      <th>2019-02-13</th>\n",
       "      <td>-0.003000</td>\n",
       "      <td>1.220261</td>\n",
       "    </tr>\n",
       "    <tr>\n",
       "      <th>2019-02-14</th>\n",
       "      <td>16.224550</td>\n",
       "      <td>2.218750</td>\n",
       "    </tr>\n",
       "    <tr>\n",
       "      <th>2019-02-15</th>\n",
       "      <td>11.045623</td>\n",
       "      <td>2.728760</td>\n",
       "    </tr>\n",
       "    <tr>\n",
       "      <th>2019-02-16</th>\n",
       "      <td>31.484775</td>\n",
       "      <td>3.359250</td>\n",
       "    </tr>\n",
       "    <tr>\n",
       "      <th>2019-02-17</th>\n",
       "      <td>140.284937</td>\n",
       "      <td>4.711771</td>\n",
       "    </tr>\n",
       "    <tr>\n",
       "      <th>...</th>\n",
       "      <td>...</td>\n",
       "      <td>...</td>\n",
       "    </tr>\n",
       "    <tr>\n",
       "      <th>2020-12-17</th>\n",
       "      <td>343.092094</td>\n",
       "      <td>6.609375</td>\n",
       "    </tr>\n",
       "    <tr>\n",
       "      <th>2020-12-18</th>\n",
       "      <td>194.905208</td>\n",
       "      <td>5.348958</td>\n",
       "    </tr>\n",
       "    <tr>\n",
       "      <th>2020-12-19</th>\n",
       "      <td>583.713083</td>\n",
       "      <td>8.022917</td>\n",
       "    </tr>\n",
       "    <tr>\n",
       "      <th>2020-12-20</th>\n",
       "      <td>195.435073</td>\n",
       "      <td>5.629229</td>\n",
       "    </tr>\n",
       "    <tr>\n",
       "      <th>2020-12-21</th>\n",
       "      <td>341.794155</td>\n",
       "      <td>6.425862</td>\n",
       "    </tr>\n",
       "  </tbody>\n",
       "</table>\n",
       "<p>678 rows × 2 columns</p>\n",
       "</div>"
      ],
      "text/plain": [
       "                 Power  Wind_Speed\n",
       "Date                              \n",
       "2019-02-13   -0.003000    1.220261\n",
       "2019-02-14   16.224550    2.218750\n",
       "2019-02-15   11.045623    2.728760\n",
       "2019-02-16   31.484775    3.359250\n",
       "2019-02-17  140.284937    4.711771\n",
       "...                ...         ...\n",
       "2020-12-17  343.092094    6.609375\n",
       "2020-12-18  194.905208    5.348958\n",
       "2020-12-19  583.713083    8.022917\n",
       "2020-12-20  195.435073    5.629229\n",
       "2020-12-21  341.794155    6.425862\n",
       "\n",
       "[678 rows x 2 columns]"
      ]
     },
     "execution_count": 19,
     "metadata": {},
     "output_type": "execute_result"
    }
   ],
   "source": [
    "data_path = \"/Users/kritkorns/Mike/Jacob/x_others/03_delfine_Django/delfine_UI/data/merkel1.csv\"\n",
    "df2 = pd.read_csv(data_path, index_col='Date', parse_dates=True)\n",
    "df2 = df2.sort_index()\n",
    "df2"
   ]
  },
  {
   "cell_type": "code",
   "execution_count": 20,
   "metadata": {},
   "outputs": [
    {
     "name": "stdout",
     "output_type": "stream",
     "text": [
      "<class 'pandas.core.frame.DataFrame'>\n",
      "DatetimeIndex: 678 entries, 2019-02-13 to 2020-12-21\n",
      "Data columns (total 2 columns):\n",
      " #   Column      Non-Null Count  Dtype  \n",
      "---  ------      --------------  -----  \n",
      " 0   Power       678 non-null    float64\n",
      " 1   Wind_Speed  678 non-null    float64\n",
      "dtypes: float64(2)\n",
      "memory usage: 15.9 KB\n"
     ]
    }
   ],
   "source": [
    "df2.info()"
   ]
  },
  {
   "cell_type": "code",
   "execution_count": 21,
   "metadata": {},
   "outputs": [
    {
     "data": {
      "text/plain": [
       "[<matplotlib.lines.Line2D at 0x7f7bc4c98070>]"
      ]
     },
     "execution_count": 21,
     "metadata": {},
     "output_type": "execute_result"
    },
    {
     "data": {
      "image/png": "[encoded data removed]",
      "text/plain": [
       "<Figure size 640x480 with 1 Axes>"
      ]
     },
     "metadata": {},
     "output_type": "display_data"
    }
   ],
   "source": [
    "plt.plot(df2['Power'])"
   ]
  },
  {
   "cell_type": "code",
   "execution_count": 26,
   "metadata": {},
   "outputs": [],
   "source": [
    "import pathlib\n",
    "from django.conf import settings\n"
   ]
  },
  {
   "cell_type": "code",
   "execution_count": 32,
   "metadata": {},
   "outputs": [],
   "source": [
    "def loadDataFromFile(filePath, index_col='datetime'):\n",
    "    data_path = f\"{settings.BASE_DIR}/data/{fileName}\"\n",
    "    df = pd.read_csv(data_path, index_col=index_col, parse_dates=True)\n",
    "    df = df.sort_index()\n",
    "    return df"
   ]
  },
  {
   "cell_type": "code",
   "execution_count": 44,
   "metadata": {},
   "outputs": [],
   "source": [
    "def loadDataFromDir(dirPath, index_col=['datetime', 'Date']):\n",
    "    files = pathlib.Path(dirPath)\n",
    "    df_dict = {}\n",
    "    for i, file in enumerate(list(files.iterdir())):\n",
    "        df_dict[file.stem] = loadDataFromFile(file, index_col=index_col[i])\n",
    "    return df_dict"
   ]
  },
  {
   "cell_type": "code",
   "execution_count": 45,
   "metadata": {},
   "outputs": [
    {
     "data": {
      "text/plain": [
       "{'Mehring':                      power  global_radiation  temperature  Year  Month  Day  \\\n",
       " datetime                                                                      \n",
       " 2019-02-14 09:15:00  0.678           312.310         1.25  2019      2   14   \n",
       " 2019-02-14 09:30:00  0.780           363.451         1.95  2019      2   14   \n",
       " 2019-02-14 09:45:00  0.912           419.662         1.80  2019      2   14   \n",
       " 2019-02-14 10:00:00  1.025           464.191         1.75  2019      2   14   \n",
       " 2019-02-14 10:15:00  1.126           509.709         2.40  2019      2   14   \n",
       " ...                    ...               ...          ...   ...    ...  ...   \n",
       " 2020-12-21 13:15:00  0.215           113.213        12.60  2020     12   21   \n",
       " 2020-12-21 13:30:00  0.180           100.603        12.45  2020     12   21   \n",
       " 2020-12-21 13:45:00  0.149            68.183        12.50  2020     12   21   \n",
       " 2020-12-21 14:00:00  0.181            99.403        12.60  2020     12   21   \n",
       " 2020-12-21 14:15:00  0.107            70.330        12.60  2020     12   21   \n",
       " \n",
       "                            date  \n",
       " datetime                         \n",
       " 2019-02-14 09:15:00   2/14/2019  \n",
       " 2019-02-14 09:30:00   2/14/2019  \n",
       " 2019-02-14 09:45:00   2/14/2019  \n",
       " 2019-02-14 10:00:00   2/14/2019  \n",
       " 2019-02-14 10:15:00   2/14/2019  \n",
       " ...                         ...  \n",
       " 2020-12-21 13:15:00  12/21/2020  \n",
       " 2020-12-21 13:30:00  12/21/2020  \n",
       " 2020-12-21 13:45:00  12/21/2020  \n",
       " 2020-12-21 14:00:00  12/21/2020  \n",
       " 2020-12-21 14:15:00  12/21/2020  \n",
       " \n",
       " [64957 rows x 7 columns],\n",
       " 'merkel1':                  Power  Wind_Speed\n",
       " Date                              \n",
       " 2019-02-13   -0.003000    1.220261\n",
       " 2019-02-14   16.224550    2.218750\n",
       " 2019-02-15   11.045623    2.728760\n",
       " 2019-02-16   31.484775    3.359250\n",
       " 2019-02-17  140.284937    4.711771\n",
       " ...                ...         ...\n",
       " 2020-12-17  343.092094    6.609375\n",
       " 2020-12-18  194.905208    5.348958\n",
       " 2020-12-19  583.713083    8.022917\n",
       " 2020-12-20  195.435073    5.629229\n",
       " 2020-12-21  341.794155    6.425862\n",
       " \n",
       " [678 rows x 2 columns]}"
      ]
     },
     "execution_count": 45,
     "metadata": {},
     "output_type": "execute_result"
    }
   ],
   "source": [
    "df = loadDataFromDir(f\"/Users/kritkorns/Mike/Jacob/x_others/03_delfine_Django/delfine_UI/data\", index_col=['datetime', 'Date'])\n",
    "df"
   ]
  },
  {
   "cell_type": "code",
   "execution_count": 40,
   "metadata": {},
   "outputs": [
    {
     "data": {
      "text/html": [
       "<div>\n",
       "<style scoped>\n",
       "    .dataframe tbody tr th:only-of-type {\n",
       "        vertical-align: middle;\n",
       "    }\n",
       "\n",
       "    .dataframe tbody tr th {\n",
       "        vertical-align: top;\n",
       "    }\n",
       "\n",
       "    .dataframe thead th {\n",
       "        text-align: right;\n",
       "    }\n",
       "</style>\n",
       "<table border=\"1\" class=\"dataframe\">\n",
       "  <thead>\n",
       "    <tr style=\"text-align: right;\">\n",
       "      <th></th>\n",
       "      <th>Power</th>\n",
       "      <th>Wind_Speed</th>\n",
       "    </tr>\n",
       "    <tr>\n",
       "      <th>Date</th>\n",
       "      <th></th>\n",
       "      <th></th>\n",
       "    </tr>\n",
       "  </thead>\n",
       "  <tbody>\n",
       "    <tr>\n",
       "      <th>2019-02-13</th>\n",
       "      <td>-0.003000</td>\n",
       "      <td>1.220261</td>\n",
       "    </tr>\n",
       "    <tr>\n",
       "      <th>2019-02-14</th>\n",
       "      <td>16.224550</td>\n",
       "      <td>2.218750</td>\n",
       "    </tr>\n",
       "    <tr>\n",
       "      <th>2019-02-15</th>\n",
       "      <td>11.045623</td>\n",
       "      <td>2.728760</td>\n",
       "    </tr>\n",
       "    <tr>\n",
       "      <th>2019-02-16</th>\n",
       "      <td>31.484775</td>\n",
       "      <td>3.359250</td>\n",
       "    </tr>\n",
       "    <tr>\n",
       "      <th>2019-02-17</th>\n",
       "      <td>140.284937</td>\n",
       "      <td>4.711771</td>\n",
       "    </tr>\n",
       "    <tr>\n",
       "      <th>...</th>\n",
       "      <td>...</td>\n",
       "      <td>...</td>\n",
       "    </tr>\n",
       "    <tr>\n",
       "      <th>2020-12-17</th>\n",
       "      <td>343.092094</td>\n",
       "      <td>6.609375</td>\n",
       "    </tr>\n",
       "    <tr>\n",
       "      <th>2020-12-18</th>\n",
       "      <td>194.905208</td>\n",
       "      <td>5.348958</td>\n",
       "    </tr>\n",
       "    <tr>\n",
       "      <th>2020-12-19</th>\n",
       "      <td>583.713083</td>\n",
       "      <td>8.022917</td>\n",
       "    </tr>\n",
       "    <tr>\n",
       "      <th>2020-12-20</th>\n",
       "      <td>195.435073</td>\n",
       "      <td>5.629229</td>\n",
       "    </tr>\n",
       "    <tr>\n",
       "      <th>2020-12-21</th>\n",
       "      <td>341.794155</td>\n",
       "      <td>6.425862</td>\n",
       "    </tr>\n",
       "  </tbody>\n",
       "</table>\n",
       "<p>678 rows × 2 columns</p>\n",
       "</div>"
      ],
      "text/plain": [
       "                 Power  Wind_Speed\n",
       "Date                              \n",
       "2019-02-13   -0.003000    1.220261\n",
       "2019-02-14   16.224550    2.218750\n",
       "2019-02-15   11.045623    2.728760\n",
       "2019-02-16   31.484775    3.359250\n",
       "2019-02-17  140.284937    4.711771\n",
       "...                ...         ...\n",
       "2020-12-17  343.092094    6.609375\n",
       "2020-12-18  194.905208    5.348958\n",
       "2020-12-19  583.713083    8.022917\n",
       "2020-12-20  195.435073    5.629229\n",
       "2020-12-21  341.794155    6.425862\n",
       "\n",
       "[678 rows x 2 columns]"
      ]
     },
     "execution_count": 40,
     "metadata": {},
     "output_type": "execute_result"
    }
   ],
   "source": [
    "files = pathlib.Path(f\"/Users/kritkorns/Mike/Jacob/x_others/03_delfine_Django/delfine_UI/data\")\n",
    "df_dict = {}\n",
    "for file in list(files.iterdir()):\n",
    "    df_dict[file.stem] = loadDataFromFile(file, index_col=0)\n",
    "df_dict['merkel1']"
   ]
  },
  {
   "cell_type": "code",
   "execution_count": 114,
   "metadata": {},
   "outputs": [],
   "source": [
    "import datetime as dt\n",
    "\n",
    "class loadData:\n",
    "    def __init__(self) -> None:\n",
    "        self.options = {}\n",
    "        self.data = {}\n",
    "        self.datemin = dt.date(dt.MAXYEAR, 1, 1)  # Give max date to min to compare\n",
    "        self.datemax = dt.date(dt.MINYEAR, 12, 31)  # Give min date to max to compare\n",
    "\n",
    "    def _appendData(self, key, data):\n",
    "        self.data[key] = data\n",
    "        self.options[key] = data.columns\n",
    "\n",
    "        datemin = self.data[key].index.min().date()\n",
    "        datemax = self.data[key].index.max().date()\n",
    "        if self.datemin > datemin:\n",
    "            self.datemin = datemin\n",
    "        if self.datemax < datemax:\n",
    "            self.datemax = datemax\n",
    "\n",
    "    def loadDataFromFile(self, filePath, index_col=0):\n",
    "        filePath = pathlib.Path(filePath)\n",
    "        fileName = filePath.stem\n",
    "        df = pd.read_csv(filePath, index_col=index_col, parse_dates=True)\n",
    "        df = df.sort_index()\n",
    "        self._appendData(fileName, df)\n",
    "        return df\n",
    "\n",
    "    def loadDataFromDir(self, dirPath, index_col=None):\n",
    "        dirPath = pathlib.Path(dirPath)\n",
    "        files = list(dirPath.iterdir())\n",
    "        \n",
    "        if index_col is None:\n",
    "            index_col = [0] * len(files)\n",
    "\n",
    "        for i, file in enumerate(files):\n",
    "            fileName = file.stem\n",
    "            df_dict[fileName] = self.loadDataFromFile(file, index_col=index_col[i])\n",
    "        return df_dict\n",
    "\n",
    "    def getOptions(self):\n",
    "        return self.options\n",
    "\n",
    "    def getDatetimes(self):\n",
    "        return self.datemin, self.datemax"
   ]
  },
  {
   "cell_type": "code",
   "execution_count": 115,
   "metadata": {},
   "outputs": [
    {
     "data": {
      "text/plain": [
       "{'Mehring':                      power  global_radiation  temperature  Year  Month  Day  \\\n",
       " datetime                                                                      \n",
       " 2019-02-14 09:15:00  0.678           312.310         1.25  2019      2   14   \n",
       " 2019-02-14 09:30:00  0.780           363.451         1.95  2019      2   14   \n",
       " 2019-02-14 09:45:00  0.912           419.662         1.80  2019      2   14   \n",
       " 2019-02-14 10:00:00  1.025           464.191         1.75  2019      2   14   \n",
       " 2019-02-14 10:15:00  1.126           509.709         2.40  2019      2   14   \n",
       " ...                    ...               ...          ...   ...    ...  ...   \n",
       " 2020-12-21 13:15:00  0.215           113.213        12.60  2020     12   21   \n",
       " 2020-12-21 13:30:00  0.180           100.603        12.45  2020     12   21   \n",
       " 2020-12-21 13:45:00  0.149            68.183        12.50  2020     12   21   \n",
       " 2020-12-21 14:00:00  0.181            99.403        12.60  2020     12   21   \n",
       " 2020-12-21 14:15:00  0.107            70.330        12.60  2020     12   21   \n",
       " \n",
       "                            date  \n",
       " datetime                         \n",
       " 2019-02-14 09:15:00   2/14/2019  \n",
       " 2019-02-14 09:30:00   2/14/2019  \n",
       " 2019-02-14 09:45:00   2/14/2019  \n",
       " 2019-02-14 10:00:00   2/14/2019  \n",
       " 2019-02-14 10:15:00   2/14/2019  \n",
       " ...                         ...  \n",
       " 2020-12-21 13:15:00  12/21/2020  \n",
       " 2020-12-21 13:30:00  12/21/2020  \n",
       " 2020-12-21 13:45:00  12/21/2020  \n",
       " 2020-12-21 14:00:00  12/21/2020  \n",
       " 2020-12-21 14:15:00  12/21/2020  \n",
       " \n",
       " [64957 rows x 7 columns],\n",
       " 'merkel1':                  Power  Wind_Speed\n",
       " Date                              \n",
       " 2019-02-13   -0.003000    1.220261\n",
       " 2019-02-14   16.224550    2.218750\n",
       " 2019-02-15   11.045623    2.728760\n",
       " 2019-02-16   31.484775    3.359250\n",
       " 2019-02-17  140.284937    4.711771\n",
       " ...                ...         ...\n",
       " 2020-12-17  343.092094    6.609375\n",
       " 2020-12-18  194.905208    5.348958\n",
       " 2020-12-19  583.713083    8.022917\n",
       " 2020-12-20  195.435073    5.629229\n",
       " 2020-12-21  341.794155    6.425862\n",
       " \n",
       " [678 rows x 2 columns]}"
      ]
     },
     "execution_count": 115,
     "metadata": {},
     "output_type": "execute_result"
    }
   ],
   "source": [
    "df_temp = loadData()\n",
    "df_temp.loadDataFromDir(f\"/Users/kritkorns/Mike/Jacob/x_others/03_delfine_Django/delfine_UI/data\")"
   ]
  },
  {
   "cell_type": "code",
   "execution_count": 129,
   "metadata": {},
   "outputs": [
    {
     "data": {
      "text/plain": [
       "['power', 'global_radiation', 'temperature', 'Year', 'Month', 'Day', 'date']"
      ]
     },
     "execution_count": 129,
     "metadata": {},
     "output_type": "execute_result"
    }
   ],
   "source": [
    "df_temp.options['Mehring'].values.tolist()"
   ]
  },
  {
   "cell_type": "code",
   "execution_count": 117,
   "metadata": {},
   "outputs": [
    {
     "data": {
      "text/plain": [
       "datetime.date(2019, 2, 13)"
      ]
     },
     "execution_count": 117,
     "metadata": {},
     "output_type": "execute_result"
    }
   ],
   "source": [
    "df_temp.datemin"
   ]
  },
  {
   "cell_type": "code",
   "execution_count": 118,
   "metadata": {},
   "outputs": [
    {
     "data": {
      "text/plain": [
       "datetime.date(2020, 12, 21)"
      ]
     },
     "execution_count": 118,
     "metadata": {},
     "output_type": "execute_result"
    }
   ],
   "source": [
    "df_temp.datemax"
   ]
  },
  {
   "cell_type": "code",
   "execution_count": 121,
   "metadata": {},
   "outputs": [
    {
     "data": {
      "text/plain": [
       "datetime.date(2019, 2, 14)"
      ]
     },
     "metadata": {},
     "output_type": "display_data"
    },
    {
     "data": {
      "text/plain": [
       "datetime.date(2020, 12, 21)"
      ]
     },
     "metadata": {},
     "output_type": "display_data"
    },
    {
     "data": {
      "text/plain": [
       "datetime.date(2019, 2, 13)"
      ]
     },
     "metadata": {},
     "output_type": "display_data"
    },
    {
     "data": {
      "text/plain": [
       "datetime.date(2020, 12, 21)"
      ]
     },
     "metadata": {},
     "output_type": "display_data"
    }
   ],
   "source": [
    "display(df_temp.data['Mehring'].index.min().date())\n",
    "display(df_temp.data['Mehring'].index.max().date())\n",
    "display(df_temp.data['merkel1'].index.min().date())\n",
    "display(df_temp.data['merkel1'].index.max().date())"
   ]
  },
  {
   "cell_type": "code",
   "execution_count": 93,
   "metadata": {},
   "outputs": [
    {
     "data": {
      "text/plain": [
       "datetime.date(2019, 2, 14)"
      ]
     },
     "execution_count": 93,
     "metadata": {},
     "output_type": "execute_result"
    }
   ],
   "source": [
    "df_temp.data['Mehring'].index.max().date()\n",
    "df_temp.data['Mehring'].index.min().date()"
   ]
  },
  {
   "cell_type": "code",
   "execution_count": 132,
   "metadata": {},
   "outputs": [
    {
     "data": {
      "text/html": [
       "<div>\n",
       "<style scoped>\n",
       "    .dataframe tbody tr th:only-of-type {\n",
       "        vertical-align: middle;\n",
       "    }\n",
       "\n",
       "    .dataframe tbody tr th {\n",
       "        vertical-align: top;\n",
       "    }\n",
       "\n",
       "    .dataframe thead th {\n",
       "        text-align: right;\n",
       "    }\n",
       "</style>\n",
       "<table border=\"1\" class=\"dataframe\">\n",
       "  <thead>\n",
       "    <tr style=\"text-align: right;\">\n",
       "      <th></th>\n",
       "      <th>Power</th>\n",
       "      <th>Wind_Speed</th>\n",
       "    </tr>\n",
       "    <tr>\n",
       "      <th>Date</th>\n",
       "      <th></th>\n",
       "      <th></th>\n",
       "    </tr>\n",
       "  </thead>\n",
       "  <tbody>\n",
       "    <tr>\n",
       "      <th>2019-03-01</th>\n",
       "      <td>221.169646</td>\n",
       "      <td>5.713510</td>\n",
       "    </tr>\n",
       "    <tr>\n",
       "      <th>2019-03-02</th>\n",
       "      <td>245.047690</td>\n",
       "      <td>5.641083</td>\n",
       "    </tr>\n",
       "    <tr>\n",
       "      <th>2019-03-03</th>\n",
       "      <td>923.797844</td>\n",
       "      <td>9.723365</td>\n",
       "    </tr>\n",
       "    <tr>\n",
       "      <th>2019-03-04</th>\n",
       "      <td>988.692406</td>\n",
       "      <td>10.692792</td>\n",
       "    </tr>\n",
       "    <tr>\n",
       "      <th>2019-03-05</th>\n",
       "      <td>549.379958</td>\n",
       "      <td>7.583365</td>\n",
       "    </tr>\n",
       "    <tr>\n",
       "      <th>2019-03-06</th>\n",
       "      <td>716.872677</td>\n",
       "      <td>8.551990</td>\n",
       "    </tr>\n",
       "    <tr>\n",
       "      <th>2019-03-07</th>\n",
       "      <td>1181.760510</td>\n",
       "      <td>11.499000</td>\n",
       "    </tr>\n",
       "    <tr>\n",
       "      <th>2019-03-08</th>\n",
       "      <td>617.010531</td>\n",
       "      <td>7.878396</td>\n",
       "    </tr>\n",
       "    <tr>\n",
       "      <th>2019-03-09</th>\n",
       "      <td>990.564052</td>\n",
       "      <td>10.362510</td>\n",
       "    </tr>\n",
       "    <tr>\n",
       "      <th>2019-03-10</th>\n",
       "      <td>464.190114</td>\n",
       "      <td>10.978240</td>\n",
       "    </tr>\n",
       "    <tr>\n",
       "      <th>2019-03-11</th>\n",
       "      <td>612.764708</td>\n",
       "      <td>9.047802</td>\n",
       "    </tr>\n",
       "    <tr>\n",
       "      <th>2019-03-12</th>\n",
       "      <td>930.727406</td>\n",
       "      <td>9.841708</td>\n",
       "    </tr>\n",
       "    <tr>\n",
       "      <th>2019-03-13</th>\n",
       "      <td>883.518635</td>\n",
       "      <td>9.663354</td>\n",
       "    </tr>\n",
       "    <tr>\n",
       "      <th>2019-03-14</th>\n",
       "      <td>843.824031</td>\n",
       "      <td>9.282292</td>\n",
       "    </tr>\n",
       "    <tr>\n",
       "      <th>2019-03-15</th>\n",
       "      <td>856.084000</td>\n",
       "      <td>9.774302</td>\n",
       "    </tr>\n",
       "    <tr>\n",
       "      <th>2019-03-16</th>\n",
       "      <td>1086.852187</td>\n",
       "      <td>10.644208</td>\n",
       "    </tr>\n",
       "    <tr>\n",
       "      <th>2019-03-17</th>\n",
       "      <td>752.013365</td>\n",
       "      <td>8.622802</td>\n",
       "    </tr>\n",
       "    <tr>\n",
       "      <th>2019-03-18</th>\n",
       "      <td>181.826552</td>\n",
       "      <td>5.158333</td>\n",
       "    </tr>\n",
       "    <tr>\n",
       "      <th>2019-03-19</th>\n",
       "      <td>17.773300</td>\n",
       "      <td>2.541781</td>\n",
       "    </tr>\n",
       "    <tr>\n",
       "      <th>2019-03-20</th>\n",
       "      <td>7.372262</td>\n",
       "      <td>2.193979</td>\n",
       "    </tr>\n",
       "    <tr>\n",
       "      <th>2019-03-21</th>\n",
       "      <td>67.595161</td>\n",
       "      <td>3.907521</td>\n",
       "    </tr>\n",
       "    <tr>\n",
       "      <th>2019-03-22</th>\n",
       "      <td>67.321025</td>\n",
       "      <td>3.954052</td>\n",
       "    </tr>\n",
       "    <tr>\n",
       "      <th>2019-03-23</th>\n",
       "      <td>119.137851</td>\n",
       "      <td>3.981250</td>\n",
       "    </tr>\n",
       "    <tr>\n",
       "      <th>2019-03-24</th>\n",
       "      <td>216.484551</td>\n",
       "      <td>5.598260</td>\n",
       "    </tr>\n",
       "    <tr>\n",
       "      <th>2019-03-25</th>\n",
       "      <td>564.767083</td>\n",
       "      <td>7.678937</td>\n",
       "    </tr>\n",
       "    <tr>\n",
       "      <th>2019-03-26</th>\n",
       "      <td>131.114812</td>\n",
       "      <td>4.822688</td>\n",
       "    </tr>\n",
       "    <tr>\n",
       "      <th>2019-03-27</th>\n",
       "      <td>20.866706</td>\n",
       "      <td>2.759260</td>\n",
       "    </tr>\n",
       "    <tr>\n",
       "      <th>2019-03-28</th>\n",
       "      <td>116.081436</td>\n",
       "      <td>4.570865</td>\n",
       "    </tr>\n",
       "    <tr>\n",
       "      <th>2019-03-29</th>\n",
       "      <td>146.670772</td>\n",
       "      <td>4.979083</td>\n",
       "    </tr>\n",
       "    <tr>\n",
       "      <th>2019-03-30</th>\n",
       "      <td>62.724853</td>\n",
       "      <td>3.912615</td>\n",
       "    </tr>\n",
       "    <tr>\n",
       "      <th>2019-03-31</th>\n",
       "      <td>240.583197</td>\n",
       "      <td>4.879490</td>\n",
       "    </tr>\n",
       "  </tbody>\n",
       "</table>\n",
       "</div>"
      ],
      "text/plain": [
       "                  Power  Wind_Speed\n",
       "Date                               \n",
       "2019-03-01   221.169646    5.713510\n",
       "2019-03-02   245.047690    5.641083\n",
       "2019-03-03   923.797844    9.723365\n",
       "2019-03-04   988.692406   10.692792\n",
       "2019-03-05   549.379958    7.583365\n",
       "2019-03-06   716.872677    8.551990\n",
       "2019-03-07  1181.760510   11.499000\n",
       "2019-03-08   617.010531    7.878396\n",
       "2019-03-09   990.564052   10.362510\n",
       "2019-03-10   464.190114   10.978240\n",
       "2019-03-11   612.764708    9.047802\n",
       "2019-03-12   930.727406    9.841708\n",
       "2019-03-13   883.518635    9.663354\n",
       "2019-03-14   843.824031    9.282292\n",
       "2019-03-15   856.084000    9.774302\n",
       "2019-03-16  1086.852187   10.644208\n",
       "2019-03-17   752.013365    8.622802\n",
       "2019-03-18   181.826552    5.158333\n",
       "2019-03-19    17.773300    2.541781\n",
       "2019-03-20     7.372262    2.193979\n",
       "2019-03-21    67.595161    3.907521\n",
       "2019-03-22    67.321025    3.954052\n",
       "2019-03-23   119.137851    3.981250\n",
       "2019-03-24   216.484551    5.598260\n",
       "2019-03-25   564.767083    7.678937\n",
       "2019-03-26   131.114812    4.822688\n",
       "2019-03-27    20.866706    2.759260\n",
       "2019-03-28   116.081436    4.570865\n",
       "2019-03-29   146.670772    4.979083\n",
       "2019-03-30    62.724853    3.912615\n",
       "2019-03-31   240.583197    4.879490"
      ]
     },
     "execution_count": 132,
     "metadata": {},
     "output_type": "execute_result"
    }
   ],
   "source": [
    "df_temp.data['merkel1'].loc[dt.date(2019, 3, 1):dt.date(2019, 3, 31)]"
   ]
  },
  {
   "cell_type": "code",
   "execution_count": 136,
   "metadata": {},
   "outputs": [
    {
     "name": "stdout",
     "output_type": "stream",
     "text": [
      "asd\n"
     ]
    }
   ],
   "source": [
    "a=\"asd\"\n",
    "b='asd'\n",
    "\n",
    "if all(v is not None for v in [a, b]):\n",
    "    print('asd')"
   ]
  },
  {
   "cell_type": "code",
   "execution_count": 7,
   "metadata": {},
   "outputs": [
    {
     "data": {
      "text/plain": [
       "{'Mehring':                      power  global_radiation  temperature  Year  Month  Day  \\\n",
       " datetime                                                                      \n",
       " 2019-02-14 09:15:00  0.678           312.310         1.25  2019      2   14   \n",
       " 2019-02-14 09:30:00  0.780           363.451         1.95  2019      2   14   \n",
       " 2019-02-14 09:45:00  0.912           419.662         1.80  2019      2   14   \n",
       " 2019-02-14 10:00:00  1.025           464.191         1.75  2019      2   14   \n",
       " 2019-02-14 10:15:00  1.126           509.709         2.40  2019      2   14   \n",
       " ...                    ...               ...          ...   ...    ...  ...   \n",
       " 2020-12-21 13:15:00  0.215           113.213        12.60  2020     12   21   \n",
       " 2020-12-21 13:30:00  0.180           100.603        12.45  2020     12   21   \n",
       " 2020-12-21 13:45:00  0.149            68.183        12.50  2020     12   21   \n",
       " 2020-12-21 14:00:00  0.181            99.403        12.60  2020     12   21   \n",
       " 2020-12-21 14:15:00  0.107            70.330        12.60  2020     12   21   \n",
       " \n",
       "                            date  \n",
       " datetime                         \n",
       " 2019-02-14 09:15:00   2/14/2019  \n",
       " 2019-02-14 09:30:00   2/14/2019  \n",
       " 2019-02-14 09:45:00   2/14/2019  \n",
       " 2019-02-14 10:00:00   2/14/2019  \n",
       " 2019-02-14 10:15:00   2/14/2019  \n",
       " ...                         ...  \n",
       " 2020-12-21 13:15:00  12/21/2020  \n",
       " 2020-12-21 13:30:00  12/21/2020  \n",
       " 2020-12-21 13:45:00  12/21/2020  \n",
       " 2020-12-21 14:00:00  12/21/2020  \n",
       " 2020-12-21 14:15:00  12/21/2020  \n",
       " \n",
       " [64957 rows x 7 columns],\n",
       " 'merkel1':                  Power  Wind_Speed\n",
       " Date                              \n",
       " 2019-02-13   -0.003000    1.220261\n",
       " 2019-02-14   16.224550    2.218750\n",
       " 2019-02-15   11.045623    2.728760\n",
       " 2019-02-16   31.484775    3.359250\n",
       " 2019-02-17  140.284937    4.711771\n",
       " ...                ...         ...\n",
       " 2020-12-17  343.092094    6.609375\n",
       " 2020-12-18  194.905208    5.348958\n",
       " 2020-12-19  583.713083    8.022917\n",
       " 2020-12-20  195.435073    5.629229\n",
       " 2020-12-21  341.794155    6.425862\n",
       " \n",
       " [678 rows x 2 columns]}"
      ]
     },
     "execution_count": 7,
     "metadata": {},
     "output_type": "execute_result"
    }
   ],
   "source": [
    "import sys\n",
    "sys.path.insert(0, '/Users/kritkorns/Mike/Jacob/x_others/03_delfine_Django/delfine_UI/utils')\n",
    "\n",
    "from dataset import loadData\n",
    "\n",
    "data = loadData()\n",
    "data.loadDataFromDir(dirPath='/Users/kritkorns/Mike/Jacob/x_others/03_delfine_Django/delfine_UI/data')\n"
   ]
  },
  {
   "cell_type": "code",
   "execution_count": 21,
   "metadata": {},
   "outputs": [
    {
     "data": {
      "text/plain": [
       "[{'datetime': Timestamp('2019-02-14 09:15:00'), 'power': 0.678},\n",
       " {'datetime': Timestamp('2019-02-14 09:30:00'), 'power': 0.78},\n",
       " {'datetime': Timestamp('2019-02-14 09:45:00'), 'power': 0.912},\n",
       " {'datetime': Timestamp('2019-02-14 10:00:00'), 'power': 1.025},\n",
       " {'datetime': Timestamp('2019-02-14 10:15:00'), 'power': 1.126}]"
      ]
     },
     "execution_count": 21,
     "metadata": {},
     "output_type": "execute_result"
    }
   ],
   "source": [
    "data.dataAll[\"Mehring-power\"].head()\n",
    "data.dataAll[\"Mehring-power\"].head().reset_index(level=0).to_dict('records')"
   ]
  },
  {
   "cell_type": "code",
   "execution_count": 2,
   "metadata": {},
   "outputs": [
    {
     "data": {
      "text/plain": [
       "[{'State': 'California',\n",
       "  'Number of Solar Plants': 289,\n",
       "  'Installed Capacity (MW)': 4395,\n",
       "  'Average MW Per Plant': 15.3,\n",
       "  'Generation (GWh)': 10826},\n",
       " {'State': 'Arizona',\n",
       "  'Number of Solar Plants': 48,\n",
       "  'Installed Capacity (MW)': 1078,\n",
       "  'Average MW Per Plant': 22.5,\n",
       "  'Generation (GWh)': 2550},\n",
       " {'State': 'Nevada',\n",
       "  'Number of Solar Plants': 11,\n",
       "  'Installed Capacity (MW)': 238,\n",
       "  'Average MW Per Plant': 21.6,\n",
       "  'Generation (GWh)': 557},\n",
       " {'State': 'New Mexico',\n",
       "  'Number of Solar Plants': 33,\n",
       "  'Installed Capacity (MW)': 261,\n",
       "  'Average MW Per Plant': 7.9,\n",
       "  'Generation (GWh)': 590},\n",
       " {'State': 'Colorado',\n",
       "  'Number of Solar Plants': 20,\n",
       "  'Installed Capacity (MW)': 118,\n",
       "  'Average MW Per Plant': 5.9,\n",
       "  'Generation (GWh)': 235},\n",
       " {'State': 'Texas',\n",
       "  'Number of Solar Plants': 12,\n",
       "  'Installed Capacity (MW)': 187,\n",
       "  'Average MW Per Plant': 15.6,\n",
       "  'Generation (GWh)': 354},\n",
       " {'State': 'North Carolina',\n",
       "  'Number of Solar Plants': 148,\n",
       "  'Installed Capacity (MW)': 669,\n",
       "  'Average MW Per Plant': 4.5,\n",
       "  'Generation (GWh)': 1162},\n",
       " {'State': 'New York',\n",
       "  'Number of Solar Plants': 13,\n",
       "  'Installed Capacity (MW)': 53,\n",
       "  'Average MW Per Plant': 4.1,\n",
       "  'Generation (GWh)': 84}]"
      ]
     },
     "execution_count": 2,
     "metadata": {},
     "output_type": "execute_result"
    }
   ],
   "source": [
    "import pandas as pd\n",
    "\n",
    "df = pd.read_csv('https://raw.githubusercontent.com/plotly/datasets/master/solar.csv')\n",
    "df.to_dict('records')"
   ]
  }
 ],
 "metadata": {
  "kernelspec": {
   "display_name": "Python 3.8.15 ('delfine2')",
   "language": "python",
   "name": "python3"
  },
  "language_info": {
   "codemirror_mode": {
    "name": "ipython",
    "version": 3
   },
   "file_extension": ".py",
   "mimetype": "text/x-python",
   "name": "python",
   "nbconvert_exporter": "python",
   "pygments_lexer": "ipython3",
   "version": "3.8.15"
  },
  "orig_nbformat": 4,
  "vscode": {
   "interpreter": {
    "hash": "a1372727744c31eeccf6e18f522efa4fc501a259e614c2f4b0cb486d214c9f13"
   }
  }
 },
 "nbformat": 4,
 "nbformat_minor": 2
}
